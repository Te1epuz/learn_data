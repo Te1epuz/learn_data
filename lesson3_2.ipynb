{
 "cells": [
  {
   "cell_type": "code",
   "execution_count": 20,
   "metadata": {},
   "outputs": [],
   "source": [
    "import json"
   ]
  },
  {
   "cell_type": "code",
   "execution_count": 49,
   "metadata": {},
   "outputs": [
    {
     "name": "stdout",
     "output_type": "stream",
     "text": [
      "['Динамо', 'Красногвардейская', 'Крылатское', 'Орехово', 'Лубянка', 'Кузьминки', 'Нахимовский проспект', 'Молодёжная', 'Пражская', 'Царицыно', 'Тимирязевская', 'Рязанский проспект', 'Университет', 'Таганская', 'Семёновская', 'Арбатская', 'ЦСКА', 'Окружная']\n"
     ]
    }
   ],
   "source": [
    "with open('metro.json', 'r', encoding='cp1251') as f:\n",
    "    datastore = json.load(f)\n",
    "    stations = []\n",
    "    for rows in datastore:\n",
    "        if rows['RepairOfEscalators']:\n",
    "            if not rows['NameOfStation'] in stations:\n",
    "                stations.append(rows['NameOfStation'])\n",
    "print(stations)     "
   ]
  },
  {
   "cell_type": "code",
   "execution_count": null,
   "metadata": {},
   "outputs": [],
   "source": []
  }
 ],
 "metadata": {
  "kernelspec": {
   "display_name": "Python 3",
   "language": "python",
   "name": "python3"
  },
  "language_info": {
   "codemirror_mode": {
    "name": "ipython",
    "version": 3
   },
   "file_extension": ".py",
   "mimetype": "text/x-python",
   "name": "python",
   "nbconvert_exporter": "python",
   "pygments_lexer": "ipython3",
   "version": "3.6.8"
  }
 },
 "nbformat": 4,
 "nbformat_minor": 2
}

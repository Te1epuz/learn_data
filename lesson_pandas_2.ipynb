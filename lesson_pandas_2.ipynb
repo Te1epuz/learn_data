{
 "cells": [
  {
   "cell_type": "code",
   "execution_count": 1,
   "metadata": {},
   "outputs": [],
   "source": [
    "import pandas as pd"
   ]
  },
  {
   "cell_type": "code",
   "execution_count": 3,
   "metadata": {},
   "outputs": [],
   "source": [
    "stations = pd.read_csv(open('bus_stops.csv', 'r', encoding='cp1251'), sep=';')"
   ]
  },
  {
   "cell_type": "code",
   "execution_count": 4,
   "metadata": {},
   "outputs": [
    {
     "data": {
      "text/html": [
       "<div>\n",
       "<style scoped>\n",
       "    .dataframe tbody tr th:only-of-type {\n",
       "        vertical-align: middle;\n",
       "    }\n",
       "\n",
       "    .dataframe tbody tr th {\n",
       "        vertical-align: top;\n",
       "    }\n",
       "\n",
       "    .dataframe thead th {\n",
       "        text-align: right;\n",
       "    }\n",
       "</style>\n",
       "<table border=\"1\" class=\"dataframe\">\n",
       "  <thead>\n",
       "    <tr style=\"text-align: right;\">\n",
       "      <th></th>\n",
       "      <th>ID</th>\n",
       "      <th>Name</th>\n",
       "      <th>Longitude_WGS84</th>\n",
       "      <th>Latitude_WGS84</th>\n",
       "      <th>Street</th>\n",
       "      <th>AdmArea</th>\n",
       "      <th>District</th>\n",
       "      <th>RouteNumbers</th>\n",
       "      <th>StationName</th>\n",
       "      <th>Direction</th>\n",
       "      <th>Pavilion</th>\n",
       "      <th>OperatingOrgName</th>\n",
       "      <th>EntryState</th>\n",
       "      <th>global_id</th>\n",
       "      <th>geoData</th>\n",
       "      <th>Unnamed: 15</th>\n",
       "    </tr>\n",
       "  </thead>\n",
       "  <tbody>\n",
       "    <tr>\n",
       "      <th>0</th>\n",
       "      <td>7</td>\n",
       "      <td>«Дербеневская наб.», 3-й Дербеневский переулок...</td>\n",
       "      <td>37.6551636</td>\n",
       "      <td>55.72566817</td>\n",
       "      <td>3-й Дербеневский переулок</td>\n",
       "      <td>Южный административный округ</td>\n",
       "      <td>Даниловский район</td>\n",
       "      <td>А13; А632</td>\n",
       "      <td>Дербеневская наб.</td>\n",
       "      <td>NaN</td>\n",
       "      <td>да</td>\n",
       "      <td>ГУП «Мосгортранс»</td>\n",
       "      <td>активна</td>\n",
       "      <td>889076457</td>\n",
       "      <td>{type=Point, coordinates=[37.6551636, 55.72566...</td>\n",
       "      <td>NaN</td>\n",
       "    </tr>\n",
       "    <tr>\n",
       "      <th>1</th>\n",
       "      <td>11</td>\n",
       "      <td>«Наб. Тараса Шевченко», набережная Тараса Шевч...</td>\n",
       "      <td>37.57240854</td>\n",
       "      <td>55.74944352</td>\n",
       "      <td>набережная Тараса Шевченко</td>\n",
       "      <td>Западный административный округ</td>\n",
       "      <td>район Дорогомилово</td>\n",
       "      <td>А91</td>\n",
       "      <td>Наб. Тараса Шевченко</td>\n",
       "      <td>NaN</td>\n",
       "      <td>да</td>\n",
       "      <td>ЗАО «Валль-СНГ»</td>\n",
       "      <td>активна</td>\n",
       "      <td>889076459</td>\n",
       "      <td>{type=Point, coordinates=[37.57240854, 55.7494...</td>\n",
       "      <td>NaN</td>\n",
       "    </tr>\n",
       "    <tr>\n",
       "      <th>2</th>\n",
       "      <td>12</td>\n",
       "      <td>«Наб. Тараса Шевченко», набережная Тараса Шевч...</td>\n",
       "      <td>37.57271647</td>\n",
       "      <td>55.74976112</td>\n",
       "      <td>набережная Тараса Шевченко</td>\n",
       "      <td>Западный административный округ</td>\n",
       "      <td>район Дорогомилово</td>\n",
       "      <td>А157; А474; А840; А91</td>\n",
       "      <td>Наб. Тараса Шевченко</td>\n",
       "      <td>NaN</td>\n",
       "      <td>да</td>\n",
       "      <td>ЗАО «Валль-СНГ»</td>\n",
       "      <td>активна</td>\n",
       "      <td>889076460</td>\n",
       "      <td>{type=Point, coordinates=[37.57271647, 55.7497...</td>\n",
       "      <td>NaN</td>\n",
       "    </tr>\n",
       "    <tr>\n",
       "      <th>3</th>\n",
       "      <td>27</td>\n",
       "      <td>«ВКНЦ», 3-я Черепковская улица (27)</td>\n",
       "      <td>37.37550932</td>\n",
       "      <td>55.7572642</td>\n",
       "      <td>3-я Черепковская улица</td>\n",
       "      <td>Западный административный округ</td>\n",
       "      <td>район Кунцево</td>\n",
       "      <td>А660; А798; А816</td>\n",
       "      <td>ВКНЦ</td>\n",
       "      <td>NaN</td>\n",
       "      <td>да</td>\n",
       "      <td>ГУП «Мосгортранс»</td>\n",
       "      <td>активна</td>\n",
       "      <td>889076461</td>\n",
       "      <td>{type=Point, coordinates=[37.37550932, 55.7572...</td>\n",
       "      <td>NaN</td>\n",
       "    </tr>\n",
       "    <tr>\n",
       "      <th>4</th>\n",
       "      <td>33</td>\n",
       "      <td>«Новосущевская ул.», улица Сущёвский Вал (33)</td>\n",
       "      <td>37.60337594</td>\n",
       "      <td>55.79289095</td>\n",
       "      <td>улица Сущёвский Вал</td>\n",
       "      <td>Северо-Восточный административный округ</td>\n",
       "      <td>район Марьина Роща</td>\n",
       "      <td>А126; А384; Тб42; А84; АТ18</td>\n",
       "      <td>Новосущевская ул.</td>\n",
       "      <td>NaN</td>\n",
       "      <td>да</td>\n",
       "      <td>ЗАО «Валль-СНГ»</td>\n",
       "      <td>активна</td>\n",
       "      <td>889076463</td>\n",
       "      <td>{type=Point, coordinates=[37.60337594, 55.7928...</td>\n",
       "      <td>NaN</td>\n",
       "    </tr>\n",
       "  </tbody>\n",
       "</table>\n",
       "</div>"
      ],
      "text/plain": [
       "   ID                                               Name Longitude_WGS84  \\\n",
       "0   7  «Дербеневская наб.», 3-й Дербеневский переулок...      37.6551636   \n",
       "1  11  «Наб. Тараса Шевченко», набережная Тараса Шевч...     37.57240854   \n",
       "2  12  «Наб. Тараса Шевченко», набережная Тараса Шевч...     37.57271647   \n",
       "3  27                «ВКНЦ», 3-я Черепковская улица (27)     37.37550932   \n",
       "4  33      «Новосущевская ул.», улица Сущёвский Вал (33)     37.60337594   \n",
       "\n",
       "  Latitude_WGS84                      Street  \\\n",
       "0    55.72566817   3-й Дербеневский переулок   \n",
       "1    55.74944352  набережная Тараса Шевченко   \n",
       "2    55.74976112  набережная Тараса Шевченко   \n",
       "3     55.7572642      3-я Черепковская улица   \n",
       "4    55.79289095         улица Сущёвский Вал   \n",
       "\n",
       "                                   AdmArea            District  \\\n",
       "0             Южный административный округ   Даниловский район   \n",
       "1          Западный административный округ  район Дорогомилово   \n",
       "2          Западный административный округ  район Дорогомилово   \n",
       "3          Западный административный округ       район Кунцево   \n",
       "4  Северо-Восточный административный округ  район Марьина Роща   \n",
       "\n",
       "                  RouteNumbers           StationName Direction Pavilion  \\\n",
       "0                    А13; А632     Дербеневская наб.       NaN       да   \n",
       "1                          А91  Наб. Тараса Шевченко       NaN       да   \n",
       "2        А157; А474; А840; А91  Наб. Тараса Шевченко       NaN       да   \n",
       "3             А660; А798; А816                  ВКНЦ       NaN       да   \n",
       "4  А126; А384; Тб42; А84; АТ18     Новосущевская ул.       NaN       да   \n",
       "\n",
       "    OperatingOrgName EntryState  global_id  \\\n",
       "0  ГУП «Мосгортранс»    активна  889076457   \n",
       "1    ЗАО «Валль-СНГ»    активна  889076459   \n",
       "2    ЗАО «Валль-СНГ»    активна  889076460   \n",
       "3  ГУП «Мосгортранс»    активна  889076461   \n",
       "4    ЗАО «Валль-СНГ»    активна  889076463   \n",
       "\n",
       "                                             geoData  Unnamed: 15  \n",
       "0  {type=Point, coordinates=[37.6551636, 55.72566...          NaN  \n",
       "1  {type=Point, coordinates=[37.57240854, 55.7494...          NaN  \n",
       "2  {type=Point, coordinates=[37.57271647, 55.7497...          NaN  \n",
       "3  {type=Point, coordinates=[37.37550932, 55.7572...          NaN  \n",
       "4  {type=Point, coordinates=[37.60337594, 55.7928...          NaN  "
      ]
     },
     "execution_count": 4,
     "metadata": {},
     "output_type": "execute_result"
    }
   ],
   "source": [
    "stations.head() # по умолчанию 5 строк"
   ]
  },
  {
   "cell_type": "code",
   "execution_count": 7,
   "metadata": {},
   "outputs": [],
   "source": [
    "stations_count = stations.groupby(['Street']).size()"
   ]
  },
  {
   "cell_type": "code",
   "execution_count": 8,
   "metadata": {},
   "outputs": [
    {
     "data": {
      "text/plain": [
       "pandas.core.series.Series"
      ]
     },
     "execution_count": 8,
     "metadata": {},
     "output_type": "execute_result"
    }
   ],
   "source": [
    "type(stations_count)"
   ]
  },
  {
   "cell_type": "code",
   "execution_count": 11,
   "metadata": {},
   "outputs": [],
   "source": [
    "stations_count.sort_values(ascending=False, inplace=True)"
   ]
  },
  {
   "cell_type": "code",
   "execution_count": 13,
   "metadata": {},
   "outputs": [
    {
     "data": {
      "text/plain": [
       "Street\n",
       "проезд без названия    468\n",
       "Варшавское шоссе       160\n",
       "Калужское шоссе        144\n",
       "шоссе Энтузиастов       83\n",
       "Боровское шоссе         79\n",
       "dtype: int64"
      ]
     },
     "execution_count": 13,
     "metadata": {},
     "output_type": "execute_result"
    }
   ],
   "source": [
    "stations_count[:5]"
   ]
  },
  {
   "cell_type": "code",
   "execution_count": 18,
   "metadata": {},
   "outputs": [
    {
     "data": {
      "text/plain": [
       "Pavilion\n",
       "Pavilion      11\n",
       "да          8553\n",
       "нет         2874\n",
       "dtype: int64"
      ]
     },
     "execution_count": 18,
     "metadata": {},
     "output_type": "execute_result"
    }
   ],
   "source": [
    "pavilion_count = stations.groupby(['Pavilion']).size()\n",
    "pavilion_count"
   ]
  },
  {
   "cell_type": "code",
   "execution_count": 21,
   "metadata": {},
   "outputs": [
    {
     "data": {
      "text/plain": [
       "Street                         Pavilion\n",
       "1-й Ботанический проезд        нет          1\n",
       "1-й Боткинский проезд          да           2\n",
       "1-й Варшавский проезд          да           2\n",
       "1-й Вешняковский проезд        да           1\n",
       "                               нет          1\n",
       "1-й Войковский проезд          да           1\n",
       "                               нет          1\n",
       "1-й Волоколамский проезд       да           4\n",
       "1-й Дачно-Мещерский проезд     нет          4\n",
       "1-й Дербеневский переулок      да           1\n",
       "                               нет          2\n",
       "1-й Западный проезд            да           2\n",
       "1-й Капотнинский проезд        да          11\n",
       "                               нет          2\n",
       "1-й Кожуховский проезд         да           1\n",
       "1-й Котляковский переулок      нет          2\n",
       "1-й Красногвардейский проезд   да           3\n",
       "                               нет          2\n",
       "1-й Краснокурсантский проезд   нет          2\n",
       "1-й Лесной переулок            нет          1\n",
       "1-й Магистральный тупик        да           3\n",
       "1-й Миргородский переулок      да           1\n",
       "                               нет          1\n",
       "1-й Митинский переулок         да           6\n",
       "1-й Нагатинский проезд         да           2\n",
       "1-й Новоподмосковный переулок  да           2\n",
       "1-й Пенягинский проезд         да           5\n",
       "1-й Поперечный проезд          да           1\n",
       "                               нет          1\n",
       "1-й Рощинский проезд           да           3\n",
       "                                           ..\n",
       "улица Цюрупы                   да           7\n",
       "                               нет          1\n",
       "улица Черняховского            да           1\n",
       "улица Чечулина                 да           6\n",
       "                               нет          1\n",
       "улица Чистова                  да           3\n",
       "улица Чичерина                 да           1\n",
       "улица Чугунные Ворота          да           2\n",
       "улица Чёрное Озеро             нет          1\n",
       "улица Шаболовка                да           7\n",
       "                               нет          1\n",
       "улица Шверника                 да           2\n",
       "                               нет          2\n",
       "улица Шкулёва                  да           4\n",
       "улица Шолохова                 да           6\n",
       "                               нет          3\n",
       "улица Шумкина                  да           3\n",
       "                               нет          1\n",
       "улица Шухова                   нет          1\n",
       "улица Щорса                    да           5\n",
       "улица Юности                   да          17\n",
       "                               нет          1\n",
       "улица Юных Ленинцев            да          18\n",
       "                               нет          4\n",
       "улица Яблочкова                да           6\n",
       "                               нет          5\n",
       "шоссе Фрезер                   да           5\n",
       "                               нет          2\n",
       "шоссе Энтузиастов              да          48\n",
       "                               нет         35\n",
       "Length: 2242, dtype: int64"
      ]
     },
     "execution_count": 21,
     "metadata": {},
     "output_type": "execute_result"
    }
   ],
   "source": [
    "pavilion_count = stations.groupby(['Street', 'Pavilion']).size()\n",
    "pavilion_count"
   ]
  },
  {
   "cell_type": "code",
   "execution_count": null,
   "metadata": {},
   "outputs": [],
   "source": []
  }
 ],
 "metadata": {
  "kernelspec": {
   "display_name": "Python 3",
   "language": "python",
   "name": "python3"
  },
  "language_info": {
   "codemirror_mode": {
    "name": "ipython",
    "version": 3
   },
   "file_extension": ".py",
   "mimetype": "text/x-python",
   "name": "python",
   "nbconvert_exporter": "python",
   "pygments_lexer": "ipython3",
   "version": "3.6.8"
  }
 },
 "nbformat": 4,
 "nbformat_minor": 2
}
